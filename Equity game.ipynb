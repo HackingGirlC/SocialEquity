{
 "cells": [
  {
   "cell_type": "code",
   "execution_count": 19,
   "id": "8f2dee30-36ed-48ee-a06d-15b646b53118",
   "metadata": {},
   "outputs": [
    {
     "name": "stdout",
     "output_type": "stream",
     "text": [
      "Two people are both asking for a raise.\n",
      "The first person is blind but very smart.\n",
      "The second person is completely healthy and has a history of misbehavior.\n"
     ]
    },
    {
     "name": "stdin",
     "output_type": "stream",
     "text": [
      "Who do you choose? (1 for first and 2 for second)  1\n"
     ]
    },
    {
     "name": "stdout",
     "output_type": "stream",
     "text": [
      "You're right, bad behavior does not deserve a raise.\n",
      "----------------------------------------------\n",
      "The takeaway: Be fair, but make sure that you are being reasonable!\n"
     ]
    }
   ],
   "source": [
    "import random\n",
    "dis = ['blind', 'deaf', 'missing limbs']\n",
    "sit = ['applying for a job at Google', 'applying to be an athlete', 'asking for a raise']\n",
    "his = ['volunteers at community events', 'works diligently', 'has a history of misbehavior', 'cheats in competitions', 'misplaces documents frequently', 'sometimes hands in work late']\n",
    "dis1 = random.choice(dis)\n",
    "heal = random.choice(his)\n",
    "\n",
    "disperson =  dis1 + ' but very smart.'\n",
    "healthy = 'completely healthy and ' + heal\n",
    "situation = random.choice(sit)\n",
    "print('Two people are both ' + situation + '.')\n",
    "print('The first person is ' + disperson)\n",
    "print('The second person is ' + healthy + '.')\n",
    "a = input('Who do you choose? (1 for first and 2 for second) ')\n",
    "\n",
    "if situation == sit[0] and a == '1':\n",
    "    if heal == his[1]:\n",
    "        print('This was a hard choice! It would depend on who you think is more suited for the job.')\n",
    "    elif heal == his[0]:\n",
    "        print('You made a hard choice. However, it is correct, because a job at Google would need knowledge.')\n",
    "    else:\n",
    "        print('You made the right choice(in our opinions)')\n",
    "if situation == sit[0] and a =='2':\n",
    "    print(\"We think you are incorrect. If you think otherwise, that's okay too!\")\n",
    "\n",
    "\n",
    "\n",
    "if situation == sit[1] and a == '1':\n",
    "    print(\"It would be very hard for a person with any kind of disability to become an athlete. Not all the answers in this game are 1!\")\n",
    "if situation == sit[1] and a == '2':\n",
    "    print(\"You're right! A healthy person would be a better athlete.\")\n",
    "\n",
    "\n",
    "\n",
    "if situation == sit[2] and a == '1':\n",
    "    if not (heal == his[1] or heal == his[0]):\n",
    "        print(\"You're right, bad behavior does not deserve a raise.\")\n",
    "    elif heal == his[0]:\n",
    "        print(\"Volunteering doesn't necessarily mean a person deserves a raise, but we'll take it that.\")\n",
    "    else:\n",
    "        print(\"Diligent work should be rewarded with a raise, even if they are healthier.\")\n",
    "if situation == sit[2] and a == '2':\n",
    "    if heal == his[1]:\n",
    "        print(\"You're right! Diligent work should be rewarded.\")\n",
    "    else:\n",
    "        print('We think the other person should get the raise.')\n",
    "        \n",
    "print('----------------------------------------------')\n",
    "print('The takeaway: Be fair, but make sure that you are being reasonable!')"
   ]
  },
  {
   "cell_type": "code",
   "execution_count": null,
   "id": "cad55c4f-444d-47ec-919a-19a0bce13bfb",
   "metadata": {},
   "outputs": [],
   "source": []
  },
  {
   "cell_type": "code",
   "execution_count": null,
   "id": "04d3d21f-54cd-4cf6-9a56-5129bc62b8bc",
   "metadata": {},
   "outputs": [],
   "source": []
  },
  {
   "cell_type": "code",
   "execution_count": null,
   "id": "4c91fe4f-fd1b-4aac-aef5-cca26be97542",
   "metadata": {},
   "outputs": [],
   "source": []
  }
 ],
 "metadata": {
  "kernelspec": {
   "display_name": "Python 3 (ipykernel)",
   "language": "python",
   "name": "python3"
  },
  "language_info": {
   "codemirror_mode": {
    "name": "ipython",
    "version": 3
   },
   "file_extension": ".py",
   "mimetype": "text/x-python",
   "name": "python",
   "nbconvert_exporter": "python",
   "pygments_lexer": "ipython3",
   "version": "3.9.7"
  }
 },
 "nbformat": 4,
 "nbformat_minor": 5
}
